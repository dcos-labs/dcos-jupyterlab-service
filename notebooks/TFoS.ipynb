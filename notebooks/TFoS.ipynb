{
 "cells": [
  {
   "cell_type": "code",
   "execution_count": 9,
   "metadata": {
    "scrolled": true
   },
   "outputs": [],
   "source": [
    "from __future__ import absolute_import\n",
    "from __future__ import division\n",
    "from __future__ import print_function\n",
    "\n",
    "import logging\n",
    "from datetime import datetime\n",
    "import argparse\n",
    "import subprocess\n",
    "import shlex\n",
    "from imp import reload\n",
    "from tensorflowonspark import TFCluster\n",
    "from pyspark import SparkContext\n",
    "from pyspark.conf import SparkConf"
   ]
  },
  {
   "cell_type": "code",
   "execution_count": null,
   "metadata": {},
   "outputs": [],
   "source": [
    "# Remove existing models/artifacts if any\n",
    "subprocess.check_output('hdfs dfs -rm -R -f -skipTrash mnist', shell=True)\n",
    "subprocess.check_output('hdfs dfs -rm -R -f -skipTrash mnist_model', shell=True)\n",
    "subprocess.check_output('hdfs dfs -rm -R -f -skipTrash predictions', shell=True)\n",
    "subprocess.check_output('rm -Rf mnist tensorflowonspark', shell=True)\n",
    "subprocess.check_output('rm -f mnist.zip', shell=True)"
   ]
  },
  {
   "cell_type": "code",
   "execution_count": null,
   "metadata": {},
   "outputs": [],
   "source": [
    "# Clone the repo with the adjusted TF 1.11 APIs in mnist_dist/mnist_spark\n",
    "subprocess.check_output('cd $MESOS_SANDBOX && git clone --single-branch -b leewyang_update_examples https://github.com/yahoo/tensorflowonspark', shell=True)"
   ]
  },
  {
   "cell_type": "code",
   "execution_count": null,
   "metadata": {},
   "outputs": [],
   "source": [
    "# Download the mnist example \n",
    "subprocess.check_output('cd $MESOS_SANDBOX && curl -fsSL -O https://downloads.mesosphere.com/data-science/assets/mnist.zip && unzip mnist.zip', shell=True)"
   ]
  },
  {
   "cell_type": "code",
   "execution_count": null,
   "metadata": {},
   "outputs": [],
   "source": [
    "# Create mnist data in csv2 format\n",
    "subprocess.check_output('eval spark-submit ${SPARK_OPTS} --verbose tensorflowonspark/examples/mnist/mnist_data_setup.py --output mnist/tfr --format tfr', shell=True)"
   ]
  },
  {
   "cell_type": "code",
   "execution_count": 10,
   "metadata": {},
   "outputs": [
    {
     "data": {
      "text/plain": [
       "_StoreTrueAction(option_strings=['--tensorboard'], dest='tensorboard', nargs=0, const=True, default=False, type=None, choices=None, help='launch tensorboard process', metavar=None)"
      ]
     },
     "execution_count": 10,
     "metadata": {},
     "output_type": "execute_result"
    }
   ],
   "source": [
    "# Set the number of executors to the number of available GPU agents\n",
    "num_ps = 0\n",
    "num_executors = 5\n",
    "\n",
    "parser = argparse.ArgumentParser()\n",
    "parser.add_argument(\"--batch_size\", help=\"number of records per batch\", type=int, default=100)\n",
    "parser.add_argument(\"--cluster_size\", help=\"number of nodes in the cluster (for Spark Standalone)\", type=int, default=num_executors)\n",
    "parser.add_argument(\"--driver_ps_nodes\", help=\"\"\"run tensorflow PS node on driver locally.\n",
    "    You will need to set cluster_size = num_executors + num_ps\"\"\", default=False)\n",
    "parser.add_argument(\"--epochs\", help=\"number of epochs\", type=int, default=1)\n",
    "parser.add_argument(\"--format\", help=\"example format: (csv2|tfr)\", choices=[\"csv2\", \"tfr\"], default=\"tfr\")\n",
    "parser.add_argument(\"--images_labels\", help=\"HDFS path to MNIST image_label files in parallelized format\")\n",
    "parser.add_argument(\"--mode\", help=\"train|inference\", default=\"train\")\n",
    "parser.add_argument(\"--model\", help=\"HDFS path to save/load model during train/test\", default=\"mnist_model\")\n",
    "parser.add_argument(\"--num_ps\", help=\"number of ps nodes\", default=num_ps)\n",
    "parser.add_argument(\"--output\", help=\"HDFS path to save test/inference output\", default=\"predictions\")\n",
    "parser.add_argument(\"--rdma\", help=\"use rdma connection\", default=False)\n",
    "parser.add_argument(\"--readers\", help=\"number of reader/enqueue threads per worker\", type=int, default=10)\n",
    "parser.add_argument(\"--shuffle_size\", help=\"size of shuffle buffer\", type=int, default=1000)\n",
    "parser.add_argument(\"--steps\", help=\"maximum number of steps\", type=int, default=500)\n",
    "parser.add_argument(\"--tensorboard\", help=\"launch tensorboard process\", action=\"store_true\")"
   ]
  },
  {
   "cell_type": "code",
   "execution_count": null,
   "metadata": {
    "scrolled": true
   },
   "outputs": [],
   "source": [
    "# # CPU Config\n",
    "# conf = SparkConf().setAppName('Mnist-CPU') \\\n",
    "#                   .set('spark.mesos.executor.docker.image', 'fabianbaier/data-toolkit:latest-gpu') \n"
   ]
  },
  {
   "cell_type": "code",
   "execution_count": 11,
   "metadata": {
    "scrolled": true
   },
   "outputs": [],
   "source": [
    "# GPU Config\n",
    "conf = SparkConf().setAppName('Mnist-GPU') \\\n",
    "                 .set('spark.mesos.executor.docker.image', 'mesosphere/mesosphere-data-toolkit:latest-gpu') \\\n",
    "                 .set('spark.mesos.gpus.max', num_executors) \\\n",
    "                 .set('spark.mesos.executor.gpus', 1)"
   ]
  },
  {
   "cell_type": "code",
   "execution_count": 12,
   "metadata": {
    "scrolled": true
   },
   "outputs": [],
   "source": [
    "# Make sure you cloned the repo with the adjusted TF 1.11 APIs in mnist_dist/mnist_spark : git clone --single-branch -b leewyang_update_examples https://github.com/yahoo/tensorflowonspark\n",
    "sc = SparkContext(conf=conf).getOrCreate()\n",
    "sc.addPyFile('tensorflowonspark/examples/mnist/tf/mnist_dist.py')"
   ]
  },
  {
   "cell_type": "code",
   "execution_count": 13,
   "metadata": {
    "scrolled": true
   },
   "outputs": [],
   "source": [
    "import mnist_dist"
   ]
  },
  {
   "cell_type": "code",
   "execution_count": 14,
   "metadata": {
    "scrolled": true
   },
   "outputs": [],
   "source": [
    "reload(logging)\n",
    "logging.basicConfig(format='%(asctime)s %(levelname)s:%(message)s', level=logging.INFO, datefmt='%I:%M:%S')"
   ]
  },
  {
   "cell_type": "code",
   "execution_count": 15,
   "metadata": {
    "scrolled": true
   },
   "outputs": [
    {
     "name": "stdout",
     "output_type": "stream",
     "text": [
      "b'-rw-r--r--   3 nobody supergroup          0 2018-11-05 22:25 mnist/tfr/train/_SUCCESS\\n-rw-r--r--   3 nobody supergroup    4865957 2018-11-05 22:25 mnist/tfr/train/part-r-00000\\n-rw-r--r--   3 nobody supergroup    5853920 2018-11-05 22:25 mnist/tfr/train/part-r-00001\\n-rw-r--r--   3 nobody supergroup    5844694 2018-11-05 22:25 mnist/tfr/train/part-r-00002\\n-rw-r--r--   3 nobody supergroup    5851485 2018-11-05 22:25 mnist/tfr/train/part-r-00003\\n-rw-r--r--   3 nobody supergroup    5844411 2018-11-05 22:25 mnist/tfr/train/part-r-00004\\n-rw-r--r--   3 nobody supergroup    5824177 2018-11-05 22:25 mnist/tfr/train/part-r-00005\\n-rw-r--r--   3 nobody supergroup    5843674 2018-11-05 22:25 mnist/tfr/train/part-r-00006\\n-rw-r--r--   3 nobody supergroup    5835612 2018-11-05 22:25 mnist/tfr/train/part-r-00007\\n-rw-r--r--   3 nobody supergroup    5833012 2018-11-05 22:25 mnist/tfr/train/part-r-00008\\n-rw-r--r--   3 nobody supergroup    5444489 2018-11-05 22:25 mnist/tfr/train/part-r-00009\\n'\n"
     ]
    }
   ],
   "source": [
    "# Verify training images\n",
    "# Make sure you unzipped mnist.zip into mnist and ran the mnist_data_setup job via: eval spark-submit ${SPARK_OPTS} --verbose $(pwd)/tensorflowonspark/examples/mnist/mnist_data_setup.py --output mnist/csv2 --format csv2\n",
    "train_images_files = \"mnist/tfr/train\"\n",
    "print(subprocess.check_output(shlex.split('hdfs dfs -ls -R {}'.format(train_images_files))))"
   ]
  },
  {
   "cell_type": "code",
   "execution_count": 16,
   "metadata": {
    "scrolled": true
   },
   "outputs": [
    {
     "name": "stdout",
     "output_type": "stream",
     "text": [
      "Namespace(batch_size=100, cluster_size=5, driver_ps_nodes=False, epochs=3, format='tfr', images_labels='mnist/tfr/train', mode='train', model='mnist_model', num_ps=0, output='predictions', rdma=False, readers=10, shuffle_size=1000, steps=10000, tensorboard=False)\n"
     ]
    }
   ],
   "source": [
    "# Parse arguments for training\n",
    "args = parser.parse_args(['--mode', 'train', '--epochs', '3',\n",
    "                          '--batch_size', '100',\n",
    "                          '--images_labels', train_images_files,\n",
    "                          '--format', 'tfr',\n",
    "                          '--steps', '10000',\n",
    "                          '--model', 'mnist_model'])\n",
    "print(args)"
   ]
  },
  {
   "cell_type": "code",
   "execution_count": 17,
   "metadata": {
    "scrolled": true
   },
   "outputs": [
    {
     "name": "stderr",
     "output_type": "stream",
     "text": [
      "10:39:54 INFO:Reserving TFSparkNodes \n",
      "10:39:54 INFO:cluster_template: {'ps': range(0, 0), 'worker': range(0, 5)}\n",
      "10:39:54 INFO:listening for reservations at ('9.0.7.2', 35579)\n",
      "10:39:54 INFO:Starting TensorFlow on executors\n",
      "10:39:55 INFO:Waiting for TFSparkNodes to start\n",
      "10:39:55 INFO:waiting for 5 reservations\n",
      "10:39:56 INFO:waiting for 5 reservations\n",
      "10:39:57 INFO:waiting for 5 reservations\n",
      "10:39:58 INFO:waiting for 5 reservations\n",
      "10:39:59 INFO:waiting for 4 reservations\n",
      "10:40:00 INFO:all reservations completed\n",
      "10:40:00 INFO:All TFSparkNodes started\n",
      "10:40:00 INFO:{'executor_id': 2, 'host': '10.0.4.228', 'job_name': 'worker', 'task_index': 2, 'port': 35825, 'tb_pid': 0, 'tb_port': 0, 'addr': '/tmp/pymp-c01_wacm/listener-99upz2mo', 'authkey': b'\\xbc\\xce`n\\xdboH\\x91\\xbd/<\\xfa[\\xfb\\x15r'}\n",
      "10:40:00 INFO:{'executor_id': 4, 'host': '10.0.7.225', 'job_name': 'worker', 'task_index': 4, 'port': 46340, 'tb_pid': 0, 'tb_port': 0, 'addr': '/tmp/pymp-afgx4tuj/listener-_al9izeg', 'authkey': b'\\xe7W\\xc8\\xb1\\x82IAP\\x96G\\x9c\\x7fI\\x0b2\\x1c'}\n",
      "10:40:00 INFO:{'executor_id': 3, 'host': '10.0.4.91', 'job_name': 'worker', 'task_index': 3, 'port': 45528, 'tb_pid': 0, 'tb_port': 0, 'addr': '/tmp/pymp-vc5ws3zu/listener-cbt3mo9e', 'authkey': b'uv@$\\xf0\\x94O\\xab\\xb0\\x0c\\x87\\x85K\\xbf\\x90\\x88'}\n",
      "10:40:00 INFO:{'executor_id': 1, 'host': '10.0.4.116', 'job_name': 'worker', 'task_index': 1, 'port': 39532, 'tb_pid': 0, 'tb_port': 0, 'addr': '/tmp/pymp-1rwhkoxv/listener-a3_5tb26', 'authkey': b'(tAO\\x19kJ\\x86\\xb6\\x17\\xb1\\x07\\x01\\xfe\\xc4l'}\n",
      "10:40:00 INFO:{'executor_id': 0, 'host': '10.0.5.225', 'job_name': 'worker', 'task_index': 0, 'port': 39948, 'tb_pid': 0, 'tb_port': 0, 'addr': '/tmp/pymp-5rvwiq59/listener-j8dmpe6x', 'authkey': b'\\xfd\\x83\\xe0\\xb7\\xd9\\xceB\\xd0\\xacx\\xd0\\r \\xed\\x840'}\n"
     ]
    }
   ],
   "source": [
    "# Start the cluster for training\n",
    "cluster = TFCluster.run(sc, mnist_dist.map_fun, args, args.cluster_size, args.num_ps, False, TFCluster.InputMode.TENSORFLOW, driver_ps_nodes=args.driver_ps_nodes)"
   ]
  },
  {
   "cell_type": "code",
   "execution_count": 18,
   "metadata": {
    "scrolled": true
   },
   "outputs": [
    {
     "name": "stderr",
     "output_type": "stream",
     "text": [
      "10:41:24 INFO:Stopping TensorFlow nodes\n",
      "10:41:24 INFO:Shutting down cluster\n"
     ]
    }
   ],
   "source": [
    "cluster.shutdown()"
   ]
  },
  {
   "cell_type": "code",
   "execution_count": 19,
   "metadata": {
    "scrolled": true
   },
   "outputs": [
    {
     "name": "stdout",
     "output_type": "stream",
     "text": [
      "b'Found 10 items\\n-rw-r--r--   3 nobody supergroup        128 2018-11-05 22:40 mnist_model/checkpoint\\n-rw-r--r--   3 nobody supergroup         40 2018-11-05 22:40 mnist_model/events.out.tfevents.1541457603.ip-10-0-5-225.us-west-2.compute.internal\\n-rw-r--r--   3 nobody supergroup     179586 2018-11-05 22:40 mnist_model/graph.pbtxt\\n-rw-r--r--   3 nobody supergroup     814168 2018-11-05 22:40 mnist_model/model.ckpt-0.data-00000-of-00001\\n-rw-r--r--   3 nobody supergroup        375 2018-11-05 22:40 mnist_model/model.ckpt-0.index\\n-rw-r--r--   3 nobody supergroup      66439 2018-11-05 22:40 mnist_model/model.ckpt-0.meta\\n-rw-r--r--   3 nobody supergroup     814168 2018-11-05 22:40 mnist_model/model.ckpt-354.data-00000-of-00001\\n-rw-r--r--   3 nobody supergroup        375 2018-11-05 22:40 mnist_model/model.ckpt-354.index\\n-rw-r--r--   3 nobody supergroup      66439 2018-11-05 22:40 mnist_model/model.ckpt-354.meta\\ndrwxr-xr-x   - nobody supergroup          0 2018-11-05 22:40 mnist_model/train\\n'\n"
     ]
    }
   ],
   "source": [
    "# See if mnist_model was successfully created\n",
    "print(subprocess.check_output(shlex.split('hdfs dfs -ls mnist_model')))"
   ]
  },
  {
   "cell_type": "code",
   "execution_count": 20,
   "metadata": {
    "scrolled": true
   },
   "outputs": [
    {
     "name": "stdout",
     "output_type": "stream",
     "text": [
      "Namespace(batch_size=100, cluster_size=5, driver_ps_nodes=False, epochs=3, format='tfr', images_labels='mnist/tfr/train', mode='inference', model='mnist_model', num_ps=0, output='predictions', rdma=False, readers=10, shuffle_size=1000, steps=10000, tensorboard=False)\n"
     ]
    }
   ],
   "source": [
    "# Parse arguments for inference\n",
    "args = parser.parse_args(['--mode', 'inference', '--epochs', '3',\n",
    "                          '--batch_size', '100',\n",
    "                          '--images_labels', train_images_files,\n",
    "                          '--format', 'tfr',\n",
    "                          '--steps', '10000',\n",
    "                          '--output', 'predictions',\n",
    "                          '--model', 'mnist_model'])\n",
    "print(args)"
   ]
  },
  {
   "cell_type": "code",
   "execution_count": 21,
   "metadata": {
    "scrolled": true
   },
   "outputs": [
    {
     "name": "stderr",
     "output_type": "stream",
     "text": [
      "10:41:48 INFO:Reserving TFSparkNodes \n",
      "10:41:48 INFO:cluster_template: {'ps': range(0, 0), 'worker': range(0, 5)}\n",
      "10:41:48 INFO:listening for reservations at ('9.0.7.2', 35357)\n",
      "10:41:48 INFO:Starting TensorFlow on executors\n",
      "10:41:48 INFO:Waiting for TFSparkNodes to start\n",
      "10:41:48 INFO:waiting for 5 reservations\n",
      "10:41:49 INFO:waiting for 5 reservations\n",
      "10:41:50 INFO:all reservations completed\n",
      "10:41:50 INFO:All TFSparkNodes started\n",
      "10:41:50 INFO:{'executor_id': 0, 'host': '10.0.4.228', 'job_name': 'worker', 'task_index': 0, 'port': 40124, 'tb_pid': 0, 'tb_port': 0, 'addr': '/tmp/pymp-0gzba7qn/listener-52gcid_c', 'authkey': b'-Tic\\xeb\\xefH\\xa2\\x97\\x9c\\x1bTs\\xbd5\\xe8'}\n",
      "10:41:50 INFO:{'executor_id': 4, 'host': '10.0.7.225', 'job_name': 'worker', 'task_index': 4, 'port': 39938, 'tb_pid': 0, 'tb_port': 0, 'addr': '/tmp/pymp-_45qn21g/listener-soc8dl60', 'authkey': b'\\x08\\xe2)\\xc6\\x13:Gp\\x9b1\\xd2\\x8c|\\x17\\xf1m'}\n",
      "10:41:50 INFO:{'executor_id': 2, 'host': '10.0.4.116', 'job_name': 'worker', 'task_index': 2, 'port': 38315, 'tb_pid': 0, 'tb_port': 0, 'addr': '/tmp/pymp-w599fmp7/listener-ng1nrq8q', 'authkey': b'+j\\xc0D\\xa3\\x94D\\x19\\x88\\xe7wZ\\xb6\\xfdJ:'}\n",
      "10:41:50 INFO:{'executor_id': 1, 'host': '10.0.4.91', 'job_name': 'worker', 'task_index': 1, 'port': 37554, 'tb_pid': 0, 'tb_port': 0, 'addr': '/tmp/pymp-rz35vv19/listener-7ogl_txj', 'authkey': b's\\x8a\\xe4\\r\\xad\\x07Eo\\xa1{\\xe3\\xcfl\\xfaId'}\n",
      "10:41:50 INFO:{'executor_id': 3, 'host': '10.0.5.225', 'job_name': 'worker', 'task_index': 3, 'port': 38123, 'tb_pid': 0, 'tb_port': 0, 'addr': '/tmp/pymp-1ox2i9k7/listener-3lmqwmv0', 'authkey': b'N\\x91*\\t\\x02\\xf6E\\\\\\xb8\\x07\\x9b\\xae\\xfaH.\\xeb'}\n"
     ]
    }
   ],
   "source": [
    "# Start the cluster for inference\n",
    "cluster = TFCluster.run(sc, mnist_dist.map_fun, args, args.cluster_size, args.num_ps, False, TFCluster.InputMode.TENSORFLOW, driver_ps_nodes=args.driver_ps_nodes)"
   ]
  },
  {
   "cell_type": "code",
   "execution_count": 22,
   "metadata": {
    "scrolled": true
   },
   "outputs": [],
   "source": [
    "predictions = sc.textFile(\"predictions\")"
   ]
  },
  {
   "cell_type": "code",
   "execution_count": 23,
   "metadata": {
    "scrolled": true
   },
   "outputs": [
    {
     "data": {
      "text/plain": [
       "['0 0', '6 6', '4 4', '4 4', '4 4', '9 9', '2 2', '3 3', '8 8', '8 8']"
      ]
     },
     "execution_count": 23,
     "metadata": {},
     "output_type": "execute_result"
    }
   ],
   "source": [
    "predictions.take(10)"
   ]
  },
  {
   "cell_type": "code",
   "execution_count": 24,
   "metadata": {
    "scrolled": true
   },
   "outputs": [
    {
     "name": "stderr",
     "output_type": "stream",
     "text": [
      "10:44:04 INFO:Stopping TensorFlow nodes\n",
      "10:44:04 INFO:Shutting down cluster\n"
     ]
    }
   ],
   "source": [
    "cluster.shutdown()"
   ]
  },
  {
   "cell_type": "code",
   "execution_count": 25,
   "metadata": {
    "scrolled": true
   },
   "outputs": [],
   "source": [
    "sc.stop()"
   ]
  }
 ],
 "metadata": {
  "kernelspec": {
   "display_name": "Python 3",
   "language": "python",
   "name": "python3"
  },
  "language_info": {
   "codemirror_mode": {
    "name": "ipython",
    "version": 3
   },
   "file_extension": ".py",
   "mimetype": "text/x-python",
   "name": "python",
   "nbconvert_exporter": "python",
   "pygments_lexer": "ipython3",
   "version": "3.6.6"
  },
  "toc": {
   "base_numbering": 1,
   "nav_menu": {},
   "number_sections": false,
   "sideBar": false,
   "skip_h1_title": false,
   "title_cell": "Table of Contents",
   "title_sidebar": "Contents",
   "toc_cell": false,
   "toc_position": {},
   "toc_section_display": false,
   "toc_window_display": false
  }
 },
 "nbformat": 4,
 "nbformat_minor": 2
}
